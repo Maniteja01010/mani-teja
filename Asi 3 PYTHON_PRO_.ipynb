{
  "nbformat": 4,
  "nbformat_minor": 0,
  "metadata": {
    "colab": {
      "provenance": []
    },
    "kernelspec": {
      "name": "python3",
      "display_name": "Python 3"
    },
    "language_info": {
      "name": "python"
    }
  },
  "cells": [
    {
      "cell_type": "markdown",
      "source": [
        "# PYTHON PROGRAMMING ASSIGNMENT"
      ],
      "metadata": {
        "id": "zaBjHDmSCeNP"
      }
    },
    {
      "cell_type": "markdown",
      "source": [
        "## Exercise 1: Prime Numbers\n"
      ],
      "metadata": {
        "id": "Kmuo2rwtCyR9"
      }
    },
    {
      "cell_type": "markdown",
      "source": [
        "Write a Python program that checks whether a given number is prime or not. A prime number is a natural number greater than 1 that has no positive divisors other than 1 and itself.\n"
      ],
      "metadata": {
        "id": "lFwUh-3SDFtR"
      }
    },
    {
      "cell_type": "code",
      "source": [
        "number = int(input(\"Enter a Number\"))\n",
        "\n",
        "if number <= 1 :\n",
        "  print(number , \" It is not a Prime number \")\n",
        "\n",
        "elif number :\n",
        "  for i in range (2 , int(number/2)+1 ):\n",
        "    if number % i == 0:\n",
        "\n",
        "      print(number , \" It is not a Prime number \")\n",
        "      break\n",
        "  else:\n",
        "    print(f\"{number} is a prime number.\")\n",
        "\n",
        "\n"
      ],
      "metadata": {
        "colab": {
          "base_uri": "https://localhost:8080/"
        },
        "id": "kmSbZYqiJyDW",
        "outputId": "7bebe6e5-307e-43bd-b899-132913f97d24"
      },
      "execution_count": null,
      "outputs": [
        {
          "output_type": "stream",
          "name": "stdout",
          "text": [
            "Enter a Number12\n",
            "12  It is not a Prime number \n"
          ]
        }
      ]
    },
    {
      "cell_type": "markdown",
      "source": [
        "# Exercise 2: Product of Random Numbers"
      ],
      "metadata": {
        "id": "YjEqEW46V45l"
      }
    },
    {
      "cell_type": "markdown",
      "source": [
        "\n",
        "Develop a Python program that generates two random numbers and asks the user to enter the product of these numbers. The program should then check if the user's answer is correct and display an appropriate message.\n"
      ],
      "metadata": {
        "id": "Co3kwOoJV3J0"
      }
    },
    {
      "cell_type": "code",
      "source": [
        "import random\n",
        "\n",
        "# Generate two random numbers between 1 and 10\n",
        "num1 = random.randint(1, 10)\n",
        "num2 = random.randint(1, 10)\n",
        "\n",
        "# Calculate the product of the two numbers\n",
        "correct_product = num1 * num2\n",
        "\n",
        "# Ask the user to enter the product of the two numbers\n",
        "user_product = int(input(f\"What is the product of {num1} and {num2}? \"))\n",
        "\n",
        "# Check if the user's answer is correct\n",
        "if user_product == correct_product:\n",
        "    print(\"Correct! Well done!\")\n",
        "else:\n",
        "    print(f\"Incorrect. The correct answer is {correct_product}.\")\n",
        "\n"
      ],
      "metadata": {
        "colab": {
          "base_uri": "https://localhost:8080/"
        },
        "id": "2diAtZYhV2wu",
        "outputId": "4f6d7fcc-0030-4752-9e10-d91a6a1c3b80"
      },
      "execution_count": null,
      "outputs": [
        {
          "output_type": "stream",
          "name": "stdout",
          "text": [
            "What is the product of 3 and 1? 3\n",
            "Correct! Well done!\n"
          ]
        }
      ]
    },
    {
      "cell_type": "markdown",
      "source": [
        "# Exercise 3: Squares of Even/Odd Numbers :"
      ],
      "metadata": {
        "id": "pXXx7pIFX7V2"
      }
    },
    {
      "cell_type": "markdown",
      "source": [
        "\n",
        "Create a Python script that prints the squares of all even or odd numbers within the range of 100 to 200. Choose either even or odd numbers and document your choice in the code.\n"
      ],
      "metadata": {
        "id": "N3M9OX-uXqqT"
      }
    },
    {
      "cell_type": "code",
      "source": [
        "# This script prints the squares of all even numbers within the range of 100 to 200\n",
        "\n",
        "\n",
        "for number in range(100, 201):\n",
        "\n",
        "    if number % 2 == 0:\n",
        "       print(f\"The square of {number} is {number**2}\")\n"
      ],
      "metadata": {
        "colab": {
          "base_uri": "https://localhost:8080/"
        },
        "id": "_1E47wH4XqV9",
        "outputId": "8252d97b-1206-4719-f987-707d40ac3771"
      },
      "execution_count": null,
      "outputs": [
        {
          "output_type": "stream",
          "name": "stdout",
          "text": [
            "The square of 100 is 10000\n",
            "The square of 102 is 10404\n",
            "The square of 104 is 10816\n",
            "The square of 106 is 11236\n",
            "The square of 108 is 11664\n",
            "The square of 110 is 12100\n",
            "The square of 112 is 12544\n",
            "The square of 114 is 12996\n",
            "The square of 116 is 13456\n",
            "The square of 118 is 13924\n",
            "The square of 120 is 14400\n",
            "The square of 122 is 14884\n",
            "The square of 124 is 15376\n",
            "The square of 126 is 15876\n",
            "The square of 128 is 16384\n",
            "The square of 130 is 16900\n",
            "The square of 132 is 17424\n",
            "The square of 134 is 17956\n",
            "The square of 136 is 18496\n",
            "The square of 138 is 19044\n",
            "The square of 140 is 19600\n",
            "The square of 142 is 20164\n",
            "The square of 144 is 20736\n",
            "The square of 146 is 21316\n",
            "The square of 148 is 21904\n",
            "The square of 150 is 22500\n",
            "The square of 152 is 23104\n",
            "The square of 154 is 23716\n",
            "The square of 156 is 24336\n",
            "The square of 158 is 24964\n",
            "The square of 160 is 25600\n",
            "The square of 162 is 26244\n",
            "The square of 164 is 26896\n",
            "The square of 166 is 27556\n",
            "The square of 168 is 28224\n",
            "The square of 170 is 28900\n",
            "The square of 172 is 29584\n",
            "The square of 174 is 30276\n",
            "The square of 176 is 30976\n",
            "The square of 178 is 31684\n",
            "The square of 180 is 32400\n",
            "The square of 182 is 33124\n",
            "The square of 184 is 33856\n",
            "The square of 186 is 34596\n",
            "The square of 188 is 35344\n",
            "The square of 190 is 36100\n",
            "The square of 192 is 36864\n",
            "The square of 194 is 37636\n",
            "The square of 196 is 38416\n",
            "The square of 198 is 39204\n",
            "The square of 200 is 40000\n"
          ]
        }
      ]
    },
    {
      "cell_type": "markdown",
      "source": [
        "Exercise 4: Word counter"
      ],
      "metadata": {
        "id": "yYaGmNHvYiOc"
      }
    },
    {
      "cell_type": "markdown",
      "source": [
        "write a program to count the number of words in a given text.\n",
        "example:\n",
        "input_text = \"This is a sample text. This text will be used to demonstrate the word counter.\"\n",
        "Expected output:\n",
        "'This': 2\n",
        "'is': 1\n",
        "'a': 1\n",
        "'sample': 1\n",
        "'text.': 1\n"
      ],
      "metadata": {
        "id": "k9UeHqYhYh4i"
      }
    },
    {
      "cell_type": "code",
      "source": [
        "# Input text\n",
        "input_text = \"This is a sample text. This text will be used to demonstrate the word counter.\"\n",
        "\n",
        "# Convert text to lowercase to ensure case insensitivity\n",
        "input_text = input_text.lower()\n",
        "\n",
        "# Remove punctuation from the text\n",
        "import string\n",
        "input_text = input_text.translate(str.maketrans('', '', string.punctuation))\n",
        "\n",
        "# Split the text into words\n",
        "words = input_text.split()\n",
        "\n",
        "# Count the occurrences of each word using a dictionary\n",
        "word_count = {}\n",
        "for word in words:\n",
        "    if word in word_count:\n",
        "        word_count[word] += 1\n",
        "    else:\n",
        "        word_count[word] = 1\n",
        "\n",
        "# Print the word counts\n",
        "for word, count in word_count.items():\n",
        "    print(f\"'{word}': {count}\")\n"
      ],
      "metadata": {
        "colab": {
          "base_uri": "https://localhost:8080/"
        },
        "id": "JQzarmKMYhoV",
        "outputId": "e6b340ba-f146-42ba-c000-1e4af92b2feb"
      },
      "execution_count": null,
      "outputs": [
        {
          "output_type": "stream",
          "name": "stdout",
          "text": [
            "'this': 2\n",
            "'is': 1\n",
            "'a': 1\n",
            "'sample': 1\n",
            "'text': 2\n",
            "'will': 1\n",
            "'be': 1\n",
            "'used': 1\n",
            "'to': 1\n",
            "'demonstrate': 1\n",
            "'the': 1\n",
            "'word': 1\n",
            "'counter': 1\n"
          ]
        }
      ]
    },
    {
      "cell_type": "markdown",
      "source": [
        "# Exercise 5: Check for Palindrome"
      ],
      "metadata": {
        "id": "__DSaT9SZef0"
      }
    },
    {
      "cell_type": "markdown",
      "source": [
        "\n",
        "Write a Python function called is_palindrome that takes a string as input and returns True if the string is a palindrome, and False otherwise. A palindrome is a word, phrase, number, or other sequence of characters that reads the same forward and backward, ignoring spaces, punctuation, and capitalization.\n",
        "Example:\n",
        "Input: \"racecar\"\n",
        "Expected Output: True\n"
      ],
      "metadata": {
        "id": "YA1NMm8uZeKy"
      }
    },
    {
      "cell_type": "code",
      "source": [
        "import string\n",
        "\n",
        "# Input text from the user\n",
        "input_text = input(\"Enter a text: \")\n",
        "\n",
        "# Convert the input to lowercase\n",
        "input_text = input_text.lower()\n",
        "\n",
        "# Remove non-alphanumeric characters\n",
        "cleaned_text = ''\n",
        "for c in input_text:\n",
        "    if c.isalnum():\n",
        "        cleaned_text = cleaned_text + c\n",
        "\n",
        "# Check if the cleaned text reads the same forward and backward\n",
        "is_palindrome = cleaned_text == cleaned_text[::-1]\n",
        "\n",
        "# Print the result\n",
        "if is_palindrome:\n",
        "    print(f\"'{input_text}' is a palindrome.\")\n",
        "else:\n",
        "    print(f\"'{input_text}' is not a palindrome.\")\n"
      ],
      "metadata": {
        "colab": {
          "base_uri": "https://localhost:8080/"
        },
        "id": "uLxu4kXdb57N",
        "outputId": "702f78ca-0db3-48fc-d9e8-d694cf74d618"
      },
      "execution_count": null,
      "outputs": [
        {
          "output_type": "stream",
          "name": "stdout",
          "text": [
            "Enter a text: aba\n",
            "'aba' is a palindrome.\n"
          ]
        }
      ]
    }
  ]
}