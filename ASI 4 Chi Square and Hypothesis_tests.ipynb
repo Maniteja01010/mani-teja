{
  "nbformat": 4,
  "nbformat_minor": 0,
  "metadata": {
    "colab": {
      "provenance": [],
      "toc_visible": true
    },
    "kernelspec": {
      "name": "python3",
      "display_name": "Python 3"
    },
    "language_info": {
      "name": "python"
    }
  },
  "cells": [
    {
      "cell_type": "markdown",
      "source": [
        "# CHI-SQUARE TEST"
      ],
      "metadata": {
        "id": "VYC3x6TJkXWM"
      }
    },
    {
      "cell_type": "markdown",
      "source": [
        "### 1.State the hypothesis\n",
        "\n",
        "\n",
        "When conducting a Chi-Square test, we typically define two hypotheses: the null hypothesis (𝐻0) and the alternative hypothesis (𝐻1).\n",
        "\n",
        "Null Hypothesis (𝐻0): This hypothesis states that there is no association between the categorical variables. In other words, the variables are **independent**.\n",
        "\n",
        "**Alternative Hypothesis (𝐻1)**: This hypothesis states that there is an association between the categorical variables. In other words, the variables are **not independent**."
      ],
      "metadata": {
        "id": "9qYZTUorAKn3"
      }
    },
    {
      "cell_type": "code",
      "source": [],
      "metadata": {
        "id": "3MzYKyLUAKWA"
      },
      "execution_count": 9,
      "outputs": []
    },
    {
      "cell_type": "markdown",
      "source": [
        "### 2.Compute the Chi-Square Statistic\n",
        "We will use the contingency table and the Chi-Square formula for independence:\n",
        "\n",
        "##             χ2=∑(0-E)(0-E)/E\n",
        "\n",
        "where:\n",
        "\n",
        "𝑂 is the observed frequency .\n",
        "\n",
        "𝐸 is the expected frequency under the null hypothesis, which can be calculated as:        \n",
        "##(obs fre)    E= (Row Total)×(Column Total)/Overall Total"
      ],
      "metadata": {
        "id": "9OSh83nyIhL2"
      }
    },
    {
      "cell_type": "code",
      "source": [],
      "metadata": {
        "id": "DuWTpNOf_u9D"
      },
      "execution_count": 9,
      "outputs": []
    },
    {
      "cell_type": "markdown",
      "source": [
        "### 3.Determine the Critical Value\n",
        "The degrees of freedom (df) are calculated as:\n",
        "\n",
        "## df=(number of rows−1)×(number of columns−1)\n",
        "\n",
        "With a significance level (𝛼) of 0.05, we can use the Chi-Square distribution table to find the critical value."
      ],
      "metadata": {
        "id": "BR1UbsDmLV2d"
      }
    },
    {
      "cell_type": "markdown",
      "source": [
        "### 4.Make a Decision\n",
        "To make a decision, compare the Chi-Square statistic to the critical value:\n",
        "\n",
        "If the Chi-Square statistic is greater than the critical value, **reject the null hypothesis.**\n",
        "If the Chi-Square statistic is less than or equal to the critical value, **fail to reject** the null hypothesis."
      ],
      "metadata": {
        "id": "AD2dSOijMCqa"
      }
    },
    {
      "cell_type": "code",
      "source": [
        "import numpy as np\n",
        "import pandas as pd\n",
        "from scipy.stats import chi2_contingency\n",
        "\n",
        "data = np.array([[50, 70], [80, 100], [60, 90], [30, 50], [20, 50]])\n",
        "df = pd.DataFrame(data,\n",
        "                  index=[\"Very Satisfied\", \"Satisfied\", \"Neutral\", \"Unsatisfied\", \"Very Unsatisfied\"],\n",
        "                  columns=[\"Smart Thermostat\", \"Smart Light\"])\n",
        "\n",
        "# Step 2: Perform the Chi-Square test\n",
        "chi2, p, dof, expected = chi2_contingency(df)\n",
        "\n"
      ],
      "metadata": {
        "id": "_JUVwrxnLeLR"
      },
      "execution_count": 10,
      "outputs": []
    },
    {
      "cell_type": "code",
      "source": [
        "df.head()"
      ],
      "metadata": {
        "colab": {
          "base_uri": "https://localhost:8080/",
          "height": 206
        },
        "id": "iji-955Em-k7",
        "outputId": "342ec858-da70-4d99-b2cd-39101773c1a9"
      },
      "execution_count": 11,
      "outputs": [
        {
          "output_type": "execute_result",
          "data": {
            "text/plain": [
              "                  Smart Thermostat  Smart Light\n",
              "Very Satisfied                  50           70\n",
              "Satisfied                       80          100\n",
              "Neutral                         60           90\n",
              "Unsatisfied                     30           50\n",
              "Very Unsatisfied                20           50"
            ],
            "text/html": [
              "\n",
              "  <div id=\"df-b6006235-57a1-42e4-a6c7-d65128beb143\" class=\"colab-df-container\">\n",
              "    <div>\n",
              "<style scoped>\n",
              "    .dataframe tbody tr th:only-of-type {\n",
              "        vertical-align: middle;\n",
              "    }\n",
              "\n",
              "    .dataframe tbody tr th {\n",
              "        vertical-align: top;\n",
              "    }\n",
              "\n",
              "    .dataframe thead th {\n",
              "        text-align: right;\n",
              "    }\n",
              "</style>\n",
              "<table border=\"1\" class=\"dataframe\">\n",
              "  <thead>\n",
              "    <tr style=\"text-align: right;\">\n",
              "      <th></th>\n",
              "      <th>Smart Thermostat</th>\n",
              "      <th>Smart Light</th>\n",
              "    </tr>\n",
              "  </thead>\n",
              "  <tbody>\n",
              "    <tr>\n",
              "      <th>Very Satisfied</th>\n",
              "      <td>50</td>\n",
              "      <td>70</td>\n",
              "    </tr>\n",
              "    <tr>\n",
              "      <th>Satisfied</th>\n",
              "      <td>80</td>\n",
              "      <td>100</td>\n",
              "    </tr>\n",
              "    <tr>\n",
              "      <th>Neutral</th>\n",
              "      <td>60</td>\n",
              "      <td>90</td>\n",
              "    </tr>\n",
              "    <tr>\n",
              "      <th>Unsatisfied</th>\n",
              "      <td>30</td>\n",
              "      <td>50</td>\n",
              "    </tr>\n",
              "    <tr>\n",
              "      <th>Very Unsatisfied</th>\n",
              "      <td>20</td>\n",
              "      <td>50</td>\n",
              "    </tr>\n",
              "  </tbody>\n",
              "</table>\n",
              "</div>\n",
              "    <div class=\"colab-df-buttons\">\n",
              "\n",
              "  <div class=\"colab-df-container\">\n",
              "    <button class=\"colab-df-convert\" onclick=\"convertToInteractive('df-b6006235-57a1-42e4-a6c7-d65128beb143')\"\n",
              "            title=\"Convert this dataframe to an interactive table.\"\n",
              "            style=\"display:none;\">\n",
              "\n",
              "  <svg xmlns=\"http://www.w3.org/2000/svg\" height=\"24px\" viewBox=\"0 -960 960 960\">\n",
              "    <path d=\"M120-120v-720h720v720H120Zm60-500h600v-160H180v160Zm220 220h160v-160H400v160Zm0 220h160v-160H400v160ZM180-400h160v-160H180v160Zm440 0h160v-160H620v160ZM180-180h160v-160H180v160Zm440 0h160v-160H620v160Z\"/>\n",
              "  </svg>\n",
              "    </button>\n",
              "\n",
              "  <style>\n",
              "    .colab-df-container {\n",
              "      display:flex;\n",
              "      gap: 12px;\n",
              "    }\n",
              "\n",
              "    .colab-df-convert {\n",
              "      background-color: #E8F0FE;\n",
              "      border: none;\n",
              "      border-radius: 50%;\n",
              "      cursor: pointer;\n",
              "      display: none;\n",
              "      fill: #1967D2;\n",
              "      height: 32px;\n",
              "      padding: 0 0 0 0;\n",
              "      width: 32px;\n",
              "    }\n",
              "\n",
              "    .colab-df-convert:hover {\n",
              "      background-color: #E2EBFA;\n",
              "      box-shadow: 0px 1px 2px rgba(60, 64, 67, 0.3), 0px 1px 3px 1px rgba(60, 64, 67, 0.15);\n",
              "      fill: #174EA6;\n",
              "    }\n",
              "\n",
              "    .colab-df-buttons div {\n",
              "      margin-bottom: 4px;\n",
              "    }\n",
              "\n",
              "    [theme=dark] .colab-df-convert {\n",
              "      background-color: #3B4455;\n",
              "      fill: #D2E3FC;\n",
              "    }\n",
              "\n",
              "    [theme=dark] .colab-df-convert:hover {\n",
              "      background-color: #434B5C;\n",
              "      box-shadow: 0px 1px 3px 1px rgba(0, 0, 0, 0.15);\n",
              "      filter: drop-shadow(0px 1px 2px rgba(0, 0, 0, 0.3));\n",
              "      fill: #FFFFFF;\n",
              "    }\n",
              "  </style>\n",
              "\n",
              "    <script>\n",
              "      const buttonEl =\n",
              "        document.querySelector('#df-b6006235-57a1-42e4-a6c7-d65128beb143 button.colab-df-convert');\n",
              "      buttonEl.style.display =\n",
              "        google.colab.kernel.accessAllowed ? 'block' : 'none';\n",
              "\n",
              "      async function convertToInteractive(key) {\n",
              "        const element = document.querySelector('#df-b6006235-57a1-42e4-a6c7-d65128beb143');\n",
              "        const dataTable =\n",
              "          await google.colab.kernel.invokeFunction('convertToInteractive',\n",
              "                                                    [key], {});\n",
              "        if (!dataTable) return;\n",
              "\n",
              "        const docLinkHtml = 'Like what you see? Visit the ' +\n",
              "          '<a target=\"_blank\" href=https://colab.research.google.com/notebooks/data_table.ipynb>data table notebook</a>'\n",
              "          + ' to learn more about interactive tables.';\n",
              "        element.innerHTML = '';\n",
              "        dataTable['output_type'] = 'display_data';\n",
              "        await google.colab.output.renderOutput(dataTable, element);\n",
              "        const docLink = document.createElement('div');\n",
              "        docLink.innerHTML = docLinkHtml;\n",
              "        element.appendChild(docLink);\n",
              "      }\n",
              "    </script>\n",
              "  </div>\n",
              "\n",
              "\n",
              "<div id=\"df-0c9f6ff1-4f01-4d09-833a-249ddbc85095\">\n",
              "  <button class=\"colab-df-quickchart\" onclick=\"quickchart('df-0c9f6ff1-4f01-4d09-833a-249ddbc85095')\"\n",
              "            title=\"Suggest charts\"\n",
              "            style=\"display:none;\">\n",
              "\n",
              "<svg xmlns=\"http://www.w3.org/2000/svg\" height=\"24px\"viewBox=\"0 0 24 24\"\n",
              "     width=\"24px\">\n",
              "    <g>\n",
              "        <path d=\"M19 3H5c-1.1 0-2 .9-2 2v14c0 1.1.9 2 2 2h14c1.1 0 2-.9 2-2V5c0-1.1-.9-2-2-2zM9 17H7v-7h2v7zm4 0h-2V7h2v10zm4 0h-2v-4h2v4z\"/>\n",
              "    </g>\n",
              "</svg>\n",
              "  </button>\n",
              "\n",
              "<style>\n",
              "  .colab-df-quickchart {\n",
              "      --bg-color: #E8F0FE;\n",
              "      --fill-color: #1967D2;\n",
              "      --hover-bg-color: #E2EBFA;\n",
              "      --hover-fill-color: #174EA6;\n",
              "      --disabled-fill-color: #AAA;\n",
              "      --disabled-bg-color: #DDD;\n",
              "  }\n",
              "\n",
              "  [theme=dark] .colab-df-quickchart {\n",
              "      --bg-color: #3B4455;\n",
              "      --fill-color: #D2E3FC;\n",
              "      --hover-bg-color: #434B5C;\n",
              "      --hover-fill-color: #FFFFFF;\n",
              "      --disabled-bg-color: #3B4455;\n",
              "      --disabled-fill-color: #666;\n",
              "  }\n",
              "\n",
              "  .colab-df-quickchart {\n",
              "    background-color: var(--bg-color);\n",
              "    border: none;\n",
              "    border-radius: 50%;\n",
              "    cursor: pointer;\n",
              "    display: none;\n",
              "    fill: var(--fill-color);\n",
              "    height: 32px;\n",
              "    padding: 0;\n",
              "    width: 32px;\n",
              "  }\n",
              "\n",
              "  .colab-df-quickchart:hover {\n",
              "    background-color: var(--hover-bg-color);\n",
              "    box-shadow: 0 1px 2px rgba(60, 64, 67, 0.3), 0 1px 3px 1px rgba(60, 64, 67, 0.15);\n",
              "    fill: var(--button-hover-fill-color);\n",
              "  }\n",
              "\n",
              "  .colab-df-quickchart-complete:disabled,\n",
              "  .colab-df-quickchart-complete:disabled:hover {\n",
              "    background-color: var(--disabled-bg-color);\n",
              "    fill: var(--disabled-fill-color);\n",
              "    box-shadow: none;\n",
              "  }\n",
              "\n",
              "  .colab-df-spinner {\n",
              "    border: 2px solid var(--fill-color);\n",
              "    border-color: transparent;\n",
              "    border-bottom-color: var(--fill-color);\n",
              "    animation:\n",
              "      spin 1s steps(1) infinite;\n",
              "  }\n",
              "\n",
              "  @keyframes spin {\n",
              "    0% {\n",
              "      border-color: transparent;\n",
              "      border-bottom-color: var(--fill-color);\n",
              "      border-left-color: var(--fill-color);\n",
              "    }\n",
              "    20% {\n",
              "      border-color: transparent;\n",
              "      border-left-color: var(--fill-color);\n",
              "      border-top-color: var(--fill-color);\n",
              "    }\n",
              "    30% {\n",
              "      border-color: transparent;\n",
              "      border-left-color: var(--fill-color);\n",
              "      border-top-color: var(--fill-color);\n",
              "      border-right-color: var(--fill-color);\n",
              "    }\n",
              "    40% {\n",
              "      border-color: transparent;\n",
              "      border-right-color: var(--fill-color);\n",
              "      border-top-color: var(--fill-color);\n",
              "    }\n",
              "    60% {\n",
              "      border-color: transparent;\n",
              "      border-right-color: var(--fill-color);\n",
              "    }\n",
              "    80% {\n",
              "      border-color: transparent;\n",
              "      border-right-color: var(--fill-color);\n",
              "      border-bottom-color: var(--fill-color);\n",
              "    }\n",
              "    90% {\n",
              "      border-color: transparent;\n",
              "      border-bottom-color: var(--fill-color);\n",
              "    }\n",
              "  }\n",
              "</style>\n",
              "\n",
              "  <script>\n",
              "    async function quickchart(key) {\n",
              "      const quickchartButtonEl =\n",
              "        document.querySelector('#' + key + ' button');\n",
              "      quickchartButtonEl.disabled = true;  // To prevent multiple clicks.\n",
              "      quickchartButtonEl.classList.add('colab-df-spinner');\n",
              "      try {\n",
              "        const charts = await google.colab.kernel.invokeFunction(\n",
              "            'suggestCharts', [key], {});\n",
              "      } catch (error) {\n",
              "        console.error('Error during call to suggestCharts:', error);\n",
              "      }\n",
              "      quickchartButtonEl.classList.remove('colab-df-spinner');\n",
              "      quickchartButtonEl.classList.add('colab-df-quickchart-complete');\n",
              "    }\n",
              "    (() => {\n",
              "      let quickchartButtonEl =\n",
              "        document.querySelector('#df-0c9f6ff1-4f01-4d09-833a-249ddbc85095 button');\n",
              "      quickchartButtonEl.style.display =\n",
              "        google.colab.kernel.accessAllowed ? 'block' : 'none';\n",
              "    })();\n",
              "  </script>\n",
              "</div>\n",
              "\n",
              "    </div>\n",
              "  </div>\n"
            ],
            "application/vnd.google.colaboratory.intrinsic+json": {
              "type": "dataframe",
              "variable_name": "df",
              "summary": "{\n  \"name\": \"df\",\n  \"rows\": 5,\n  \"fields\": [\n    {\n      \"column\": \"Smart Thermostat\",\n      \"properties\": {\n        \"dtype\": \"number\",\n        \"std\": 23,\n        \"min\": 20,\n        \"max\": 80,\n        \"num_unique_values\": 5,\n        \"samples\": [\n          80,\n          20,\n          60\n        ],\n        \"semantic_type\": \"\",\n        \"description\": \"\"\n      }\n    },\n    {\n      \"column\": \"Smart Light\",\n      \"properties\": {\n        \"dtype\": \"number\",\n        \"std\": 22,\n        \"min\": 50,\n        \"max\": 100,\n        \"num_unique_values\": 4,\n        \"samples\": [\n          100,\n          50,\n          70\n        ],\n        \"semantic_type\": \"\",\n        \"description\": \"\"\n      }\n    }\n  ]\n}"
            }
          },
          "metadata": {},
          "execution_count": 11
        }
      ]
    },
    {
      "cell_type": "code",
      "source": [
        "# Step 3: Output results\n",
        "print(\"Chi-Square Statistic: \", chi2)\n",
        "print(\"P-Value: \", p)"
      ],
      "metadata": {
        "colab": {
          "base_uri": "https://localhost:8080/"
        },
        "id": "FZzZV0_KmaXU",
        "outputId": "73f889c0-6f9f-4ef4-ad13-140348f7c144"
      },
      "execution_count": 12,
      "outputs": [
        {
          "output_type": "stream",
          "name": "stdout",
          "text": [
            "Chi-Square Statistic:  5.638227513227513\n",
            "P-Value:  0.22784371130697179\n"
          ]
        }
      ]
    },
    {
      "cell_type": "code",
      "source": [
        "print(\"Degrees of Freedom: \", dof)\n",
        "# degree of fredem 5*1, =4-1 *2-1 =4"
      ],
      "metadata": {
        "colab": {
          "base_uri": "https://localhost:8080/"
        },
        "id": "BaIYzUrsmGfv",
        "outputId": "f67b4422-7de7-4a05-c5fc-ff8f4460304e"
      },
      "execution_count": 13,
      "outputs": [
        {
          "output_type": "stream",
          "name": "stdout",
          "text": [
            "Degrees of Freedom:  4\n"
          ]
        }
      ]
    },
    {
      "cell_type": "code",
      "source": [
        "expected    # expected frequency"
      ],
      "metadata": {
        "colab": {
          "base_uri": "https://localhost:8080/"
        },
        "id": "WKhttAVvl4Ae",
        "outputId": "007484ff-d954-4a11-e05b-9bf55897e10a"
      },
      "execution_count": 14,
      "outputs": [
        {
          "output_type": "execute_result",
          "data": {
            "text/plain": [
              "array([[ 48.,  72.],\n",
              "       [ 72., 108.],\n",
              "       [ 60.,  90.],\n",
              "       [ 32.,  48.],\n",
              "       [ 28.,  42.]])"
            ]
          },
          "metadata": {},
          "execution_count": 14
        }
      ]
    },
    {
      "cell_type": "code",
      "source": [
        "print(\"            Expected Frequencies Table:\")\n",
        "print(pd.DataFrame(expected, index=df.index, columns=df.columns))"
      ],
      "metadata": {
        "colab": {
          "base_uri": "https://localhost:8080/"
        },
        "id": "1xfztfRblfVe",
        "outputId": "6878cac6-5ad1-4d87-d19d-3744e8652ffb"
      },
      "execution_count": 15,
      "outputs": [
        {
          "output_type": "stream",
          "name": "stdout",
          "text": [
            "            Expected Frequencies Table:\n",
            "                  Smart Thermostat  Smart Light\n",
            "Very Satisfied                48.0         72.0\n",
            "Satisfied                     72.0        108.0\n",
            "Neutral                       60.0         90.0\n",
            "Unsatisfied                   32.0         48.0\n",
            "Very Unsatisfied              28.0         42.0\n"
          ]
        }
      ]
    },
    {
      "cell_type": "code",
      "source": [
        "# Step 4: Decision\n",
        "alpha = 0.05\n",
        "if p < alpha:\n",
        "    print(\"Reject the null hypothesis: There is a significant association between device type and customer satisfaction.\")\n",
        "else:\n",
        "    print(\"Fail to reject the null hypothesis (H0): There is no significant association between device type and customer satisfaction.\")\n"
      ],
      "metadata": {
        "colab": {
          "base_uri": "https://localhost:8080/"
        },
        "id": "6cAGMH_QlD-i",
        "outputId": "9570bc92-ebf1-4482-9284-365693c2bd31"
      },
      "execution_count": 16,
      "outputs": [
        {
          "output_type": "stream",
          "name": "stdout",
          "text": [
            "Fail to reject the null hypothesis (H0): There is no significant association between device type and customer satisfaction.\n"
          ]
        }
      ]
    },
    {
      "cell_type": "code",
      "source": [
        "# p value < Alpha                            --> Reject the H0\n",
        "# p value > Alpha                            --> Accept the H0\n",
        "# X^2 calculated < X^2 critical or table     --> Accept the H0\n",
        "\n",
        "# (alpha) of 0.05\n",
        "# P-Value:  0.2278\n",
        "# p > alpha\n",
        "# Smart Thermostat\", \"Smart Light are inDependent or norelationship b/w them"
      ],
      "metadata": {
        "id": "A6MsG1pblGik"
      },
      "execution_count": 17,
      "outputs": []
    },
    {
      "cell_type": "markdown",
      "source": [
        "We compare the computed Chi-Square statistic to the critical value. If the Chi-Square statistic is greater than the critical value, we reject the null hypothesis."
      ],
      "metadata": {
        "id": "UNnqENLBMYo0"
      }
    },
    {
      "cell_type": "markdown",
      "source": [
        "### Conclusion\n",
        "### Hypothesis:\n",
        "\n",
        "Null Hypothesis (H0): No association between the type of smart home device and customer satisfaction.(Independent)\n",
        "\n",
        "Alternative Hypothesis (H1): There is an association between the type of smart home device and customer satisfaction.(dependent)\n",
        "\n",
        "\n",
        "Chi-Square Statistic:\n",
        "\n",
        " The Chi-Square statistic is calculated based on the observed and expected values, and it was found to be X (will be output in the code).\n",
        "\n",
        "\n",
        "Critical Value:\n",
        "\n",
        "With 4 degrees of freedom and a significance level of 0.05, the critical value is approximately 9.488.\n",
        "\n",
        "\n",
        "Decision:\n",
        "\n",
        " Based on the comparison between the Chi-Square statistic and the critical value, we either reject or fail to reject the null hypothesis."
      ],
      "metadata": {
        "id": "6Lf32nK6Mok0"
      }
    },
    {
      "cell_type": "code",
      "source": [],
      "metadata": {
        "id": "6pRZfy6RMq81"
      },
      "execution_count": 17,
      "outputs": []
    },
    {
      "cell_type": "markdown",
      "source": [
        "# Hypothesis test"
      ],
      "metadata": {
        "id": "1rBJr27PC5wJ"
      }
    },
    {
      "cell_type": "markdown",
      "source": [
        "\n",
        "### 1.State the Hypotheses\n",
        "Null Hypothesis (𝐻0): The variables are independent.\n",
        "\n",
        "Alternative Hypothesis (𝐻1): The variables are not independent.\n",
        "\n",
        "We are testing if the actual weekly operating costs are higher than the theoretical costs. This suggests a one-tailed test. The hypotheses are:\n",
        "### H0​:μ≤μ\n",
        "        \n",
        "Null Hypothesis (H₀): The actual mean weekly cost is less than or equal to the theoretical mean cost.      \n",
        "### H1​:μ\\>μ0​\n",
        "\n",
        "Where:\n",
        "*italicized text*\n",
        "μ is the actual mean weekly cost.\n",
        "\n",
        "μ0 is the theoretical mean weekly cost based on the given model.\n"
      ],
      "metadata": {
        "id": "r7nXV2KpQntN"
      }
    },
    {
      "cell_type": "markdown",
      "source": [
        "### 2.Calculate the test statistic :\n",
        "\n",
        "#### Given\n",
        "ˉxˉ = sample mean weekly cost (Rs. 3,050) ,\n",
        "μ = theoretical mean weekly cost according to the cost model (W = $1,000 + $5X for X = 600 units) ,\n",
        "σ = 5*25 units ,\n",
        "n = sample size (25 restaurants)"
      ],
      "metadata": {
        "id": "MfKWhhpQTx7J"
      }
    },
    {
      "cell_type": "code",
      "source": [
        "\n",
        "x_bar = 3050\n",
        "mu_0 = 4000      # 1000 + 5 × 600 =4000\n",
        "sigma = 125\n",
        "n = 25\n",
        "t = (x_bar - mu_0) / (sigma / (n ** 0.5))\n",
        "t\n"
      ],
      "metadata": {
        "colab": {
          "base_uri": "https://localhost:8080/"
        },
        "id": "I52GSSJgT57M",
        "outputId": "0485436a-e5cc-4855-f5ad-5c073f73e86a"
      },
      "execution_count": 18,
      "outputs": [
        {
          "output_type": "execute_result",
          "data": {
            "text/plain": [
              "-38.0"
            ]
          },
          "metadata": {},
          "execution_count": 18
        }
      ]
    },
    {
      "cell_type": "markdown",
      "source": [
        "### 3.Determine the Critical Value\n",
        "Using a 5**% significance level** (𝛼=0.05) and assuming the test is **one-tailed**, the critical value from the standard normal (Z) distribution table is approximately 1.645 for a one-tailed test."
      ],
      "metadata": {
        "id": "IoYzi9NyUV9E"
      }
    },
    {
      "cell_type": "markdown",
      "source": [
        "### 4.Make a Decision\n",
        "( If the test statistic t is greater than 1.645, we reject the null hypothesis.Otherwise, we fail to reject the null hypothesis. )\n",
        "\n",
        "Compare the test statistic with the critical value:\n",
        "\n",
        "Since 𝑡=−38 is less than 1.645, we fail to reject the null hypothesis."
      ],
      "metadata": {
        "id": "iQ3fAc83UuIg"
      }
    },
    {
      "cell_type": "markdown",
      "source": [
        "### 5.Conclusion\n",
        "Based on this decision, there is not strong evidence to support the restaurant owners' claim that the weekly operating costs are higher than the model suggests."
      ],
      "metadata": {
        "id": "Zp7IQU4WU5S6"
      }
    }
  ]
}